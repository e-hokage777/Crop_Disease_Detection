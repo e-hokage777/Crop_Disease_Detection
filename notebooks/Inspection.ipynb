{
 "cells": [
  {
   "cell_type": "code",
   "execution_count": 1,
   "id": "2051ff38-9b12-4aca-90af-13a5aa2e461a",
   "metadata": {},
   "outputs": [],
   "source": [
    "import sys\n",
    "import os"
   ]
  },
  {
   "cell_type": "code",
   "execution_count": 2,
   "id": "a605f30d-747c-4850-b717-8830404be163",
   "metadata": {},
   "outputs": [],
   "source": [
    "## adding scripts to path\n",
    "sys.path.append(\"../scripts\")"
   ]
  },
  {
   "cell_type": "code",
   "execution_count": 3,
   "id": "4f14fbae-20d3-4139-b224-1958b62b130a",
   "metadata": {},
   "outputs": [],
   "source": [
    "from model import GCDDDetector\n",
    "import config\n",
    "from datasets import ImageDataset, ImagePredictionDataset\n",
    "from utils import get_labelencoder, get_transforms, get_test_transforms, get_means_and_stds\n",
    "import pandas as pd\n",
    "import numpy as np\n",
    "from torchvision.utils import draw_bounding_boxes\n",
    "from torchvision.transforms import ToTensor\n",
    "import torch\n",
    "import matplotlib.pyplot as plt\n",
    "import torchvision.transforms.functional as F\n",
    "from torchvision.ops import nms\n",
    "from torchvision.transforms import v2 as T\n",
    "import torchvision\n",
    "from torchvision.models import MobileNet_V3_Large_Weights\n"
   ]
  },
  {
   "cell_type": "code",
   "execution_count": 4,
   "id": "3de1164b-ac3b-4e35-845e-611fe6805519",
   "metadata": {},
   "outputs": [],
   "source": [
    "def compare_imgs(img1, img2):\n",
    "    fig, [ax1, ax2] = plt.subplots(1,2, figsize=(16,9))\n",
    "    ax1.imshow(img1)\n",
    "    ax2.imshow(img2)\n",
    "    plt.show()\n",
    "\n",
    "def draw_boxes(image, target, width=4, color=None):\n",
    "    font = \"/usr/share/fonts/truetype/liberation/LiberationMono-Bold.ttf\"\n",
    "    boxes = target[\"boxes\"]\n",
    "    labels = target[\"labels\"]\n",
    "    return draw_bounding_boxes(image, boxes, [str(label.item()) for label in labels], width=width, font=font, font_size=50, colors=[color] * len(labels))\n",
    "\n",
    "def compare_single(image, target_gt, target_pred):\n",
    "    image = draw_boxes(image, target_gt, color=\"#8934eb\") ## target\n",
    "    image = draw_boxes(image, target_pred, color=\"#eb4034\") ## pred\n",
    "    return image.permute(1,2,0)\n",
    "\n",
    "def box_nms(preds, threshold):\n",
    "        new_preds = []\n",
    "\n",
    "        for pred in preds:\n",
    "            keep_idxs = nms(pred[\"boxes\"], pred[\"scores\"], threshold)\n",
    "            new_pred = {}\n",
    "            new_pred[\"boxes\"] = pred[\"boxes\"][keep_idxs]\n",
    "            new_pred[\"labels\"] = pred[\"labels\"][keep_idxs]\n",
    "            new_pred[\"scores\"] = pred[\"scores\"][keep_idxs]\n",
    "            new_preds.append(new_pred)\n",
    "\n",
    "        return new_preds\n",
    "\n",
    "# def get_transforms():\n",
    "#     scale_transform = T.Lambda(lambda x: x/255.0, torchvision.tv_tensors._image.Image)\n",
    "#     return T.Compose([\n",
    "#         # T.RandomResizedCrop(256, scale=(0.8,1)),\n",
    "#         T.ToImage(),\n",
    "#         T.ColorJitter(),\n",
    "#         T.RandomHorizontalFlip(),\n",
    "#         T.RandomVerticalFlip(),\n",
    "#         T.ToDtype(torch.float32, scale=True),\n",
    "#         T.Normalize(mean=[0.485, 0.456, 0.406], std=[0.229, 0.224, 0.225])\n",
    "#     ])"
   ]
  },
  {
   "cell_type": "code",
   "execution_count": 5,
   "id": "d96410d6-788e-4501-b6a4-66e35efe937b",
   "metadata": {},
   "outputs": [],
   "source": [
    "CHECKPOINT_NAME=\"epoch-epoch=00_map@50=map_50=0.20.ckpt\"\n",
    "CHECKPOINT_PATH = os.path.join(\"../checkpoints/\", CHECKPOINT_NAME)\n",
    "DATA_PATH = \"../data\"\n",
    "ANNOT_PATH = os.path.join(DATA_PATH, \"Train.csv\")\n",
    "IMGS_DIR = os.path.join(DATA_PATH, \"images\")"
   ]
  },
  {
   "cell_type": "code",
   "execution_count": 6,
   "id": "333f9ac0-8506-4ee0-810d-b874c5091d53",
   "metadata": {},
   "outputs": [
    {
     "name": "stdout",
     "output_type": "stream",
     "text": [
      "INITIAL LEARNING_RATE: 0.002\n"
     ]
    },
    {
     "ename": "RuntimeError",
     "evalue": "Error(s) in loading state_dict for GCDDDetector:\n\tsize mismatch for detector.rpn.head.cls_logits.weight: copying a param with shape torch.Size([28, 256, 1, 1]) from checkpoint, the shape in current model is torch.Size([35, 256, 1, 1]).\n\tsize mismatch for detector.rpn.head.cls_logits.bias: copying a param with shape torch.Size([28]) from checkpoint, the shape in current model is torch.Size([35]).\n\tsize mismatch for detector.rpn.head.bbox_pred.weight: copying a param with shape torch.Size([112, 256, 1, 1]) from checkpoint, the shape in current model is torch.Size([140, 256, 1, 1]).\n\tsize mismatch for detector.rpn.head.bbox_pred.bias: copying a param with shape torch.Size([112]) from checkpoint, the shape in current model is torch.Size([140]).\n\tsize mismatch for detector.roi_heads.box_head.fc6.weight: copying a param with shape torch.Size([1024, 12544]) from checkpoint, the shape in current model is torch.Size([1024, 50176]).",
     "output_type": "error",
     "traceback": [
      "\u001b[0;31m---------------------------------------------------------------------------\u001b[0m",
      "\u001b[0;31mRuntimeError\u001b[0m                              Traceback (most recent call last)",
      "Cell \u001b[0;32mIn[6], line 1\u001b[0m\n\u001b[0;32m----> 1\u001b[0m model \u001b[38;5;241m=\u001b[39m \u001b[43mGCDDDetector\u001b[49m\u001b[38;5;241;43m.\u001b[39;49m\u001b[43mload_from_checkpoint\u001b[49m\u001b[43m(\u001b[49m\u001b[43mCHECKPOINT_PATH\u001b[49m\u001b[43m,\u001b[49m\n\u001b[1;32m      2\u001b[0m \u001b[43m                                                  \u001b[49m\u001b[43mnum_classes\u001b[49m\u001b[38;5;241;43m=\u001b[39;49m\u001b[38;5;241;43m24\u001b[39;49m\u001b[43m,\u001b[49m\n\u001b[1;32m      3\u001b[0m \u001b[43m                                                  \u001b[49m\u001b[43mlearning_rate\u001b[49m\u001b[38;5;241;43m=\u001b[39;49m\u001b[38;5;241;43m0.002\u001b[39;49m\u001b[43m,\u001b[49m\n\u001b[1;32m      4\u001b[0m \u001b[43m                                                  \u001b[49m\u001b[43mtrainable_backbone_layers\u001b[49m\u001b[38;5;241;43m=\u001b[39;49m\u001b[38;5;241;43m3\u001b[39;49m\u001b[43m,\u001b[49m\n\u001b[1;32m      5\u001b[0m \u001b[43m                                                  \u001b[49m\u001b[43mmap_location\u001b[49m\u001b[38;5;241;43m=\u001b[39;49m\u001b[38;5;124;43m\"\u001b[39;49m\u001b[38;5;124;43mcpu\u001b[39;49m\u001b[38;5;124;43m\"\u001b[39;49m\n\u001b[1;32m      6\u001b[0m \u001b[43m                                                 \u001b[49m\u001b[43m)\u001b[49m\n\u001b[1;32m      7\u001b[0m \u001b[38;5;66;03m# model = GCDDDetector(24,\u001b[39;00m\n\u001b[1;32m      8\u001b[0m \u001b[38;5;66;03m#                              learning_rate=config.LEARNING_RATE,\u001b[39;00m\n\u001b[1;32m      9\u001b[0m \u001b[38;5;66;03m#                              # trainable_backbone_layers=config.TRAINABLE_BACKBONE_LAYERS\u001b[39;00m\n\u001b[1;32m     10\u001b[0m \u001b[38;5;66;03m#                     )\u001b[39;00m\n\u001b[1;32m     11\u001b[0m model\u001b[38;5;241m.\u001b[39meval();\n",
      "File \u001b[0;32m/opt/conda/lib/python3.11/site-packages/lightning/pytorch/utilities/model_helpers.py:125\u001b[0m, in \u001b[0;36m_restricted_classmethod_impl.__get__.<locals>.wrapper\u001b[0;34m(*args, **kwargs)\u001b[0m\n\u001b[1;32m    120\u001b[0m \u001b[38;5;28;01mif\u001b[39;00m instance \u001b[38;5;129;01mis\u001b[39;00m \u001b[38;5;129;01mnot\u001b[39;00m \u001b[38;5;28;01mNone\u001b[39;00m \u001b[38;5;129;01mand\u001b[39;00m \u001b[38;5;129;01mnot\u001b[39;00m is_scripting:\n\u001b[1;32m    121\u001b[0m     \u001b[38;5;28;01mraise\u001b[39;00m \u001b[38;5;167;01mTypeError\u001b[39;00m(\n\u001b[1;32m    122\u001b[0m         \u001b[38;5;124mf\u001b[39m\u001b[38;5;124m\"\u001b[39m\u001b[38;5;124mThe classmethod `\u001b[39m\u001b[38;5;132;01m{\u001b[39;00m\u001b[38;5;28mcls\u001b[39m\u001b[38;5;241m.\u001b[39m\u001b[38;5;18m__name__\u001b[39m\u001b[38;5;132;01m}\u001b[39;00m\u001b[38;5;124m.\u001b[39m\u001b[38;5;132;01m{\u001b[39;00m\u001b[38;5;28mself\u001b[39m\u001b[38;5;241m.\u001b[39mmethod\u001b[38;5;241m.\u001b[39m\u001b[38;5;18m__name__\u001b[39m\u001b[38;5;132;01m}\u001b[39;00m\u001b[38;5;124m` cannot be called on an instance.\u001b[39m\u001b[38;5;124m\"\u001b[39m\n\u001b[1;32m    123\u001b[0m         \u001b[38;5;124m\"\u001b[39m\u001b[38;5;124m Please call it on the class type and make sure the return value is used.\u001b[39m\u001b[38;5;124m\"\u001b[39m\n\u001b[1;32m    124\u001b[0m     )\n\u001b[0;32m--> 125\u001b[0m \u001b[38;5;28;01mreturn\u001b[39;00m \u001b[38;5;28;43mself\u001b[39;49m\u001b[38;5;241;43m.\u001b[39;49m\u001b[43mmethod\u001b[49m\u001b[43m(\u001b[49m\u001b[38;5;28;43mcls\u001b[39;49m\u001b[43m,\u001b[49m\u001b[43m \u001b[49m\u001b[38;5;241;43m*\u001b[39;49m\u001b[43margs\u001b[49m\u001b[43m,\u001b[49m\u001b[43m \u001b[49m\u001b[38;5;241;43m*\u001b[39;49m\u001b[38;5;241;43m*\u001b[39;49m\u001b[43mkwargs\u001b[49m\u001b[43m)\u001b[49m\n",
      "File \u001b[0;32m/opt/conda/lib/python3.11/site-packages/lightning/pytorch/core/module.py:1582\u001b[0m, in \u001b[0;36mLightningModule.load_from_checkpoint\u001b[0;34m(cls, checkpoint_path, map_location, hparams_file, strict, **kwargs)\u001b[0m\n\u001b[1;32m   1493\u001b[0m \u001b[38;5;129m@_restricted_classmethod\u001b[39m\n\u001b[1;32m   1494\u001b[0m \u001b[38;5;28;01mdef\u001b[39;00m \u001b[38;5;21mload_from_checkpoint\u001b[39m(\n\u001b[1;32m   1495\u001b[0m     \u001b[38;5;28mcls\u001b[39m,\n\u001b[0;32m   (...)\u001b[0m\n\u001b[1;32m   1500\u001b[0m     \u001b[38;5;241m*\u001b[39m\u001b[38;5;241m*\u001b[39mkwargs: Any,\n\u001b[1;32m   1501\u001b[0m ) \u001b[38;5;241m-\u001b[39m\u001b[38;5;241m>\u001b[39m Self:\n\u001b[1;32m   1502\u001b[0m \u001b[38;5;250m    \u001b[39m\u001b[38;5;124mr\u001b[39m\u001b[38;5;124;03m\"\"\"Primary way of loading a model from a checkpoint. When Lightning saves a checkpoint it stores the arguments\u001b[39;00m\n\u001b[1;32m   1503\u001b[0m \u001b[38;5;124;03m    passed to ``__init__``  in the checkpoint under ``\"hyper_parameters\"``.\u001b[39;00m\n\u001b[1;32m   1504\u001b[0m \n\u001b[0;32m   (...)\u001b[0m\n\u001b[1;32m   1580\u001b[0m \n\u001b[1;32m   1581\u001b[0m \u001b[38;5;124;03m    \"\"\"\u001b[39;00m\n\u001b[0;32m-> 1582\u001b[0m     loaded \u001b[38;5;241m=\u001b[39m \u001b[43m_load_from_checkpoint\u001b[49m\u001b[43m(\u001b[49m\n\u001b[1;32m   1583\u001b[0m \u001b[43m        \u001b[49m\u001b[38;5;28;43mcls\u001b[39;49m\u001b[43m,\u001b[49m\n\u001b[1;32m   1584\u001b[0m \u001b[43m        \u001b[49m\u001b[43mcheckpoint_path\u001b[49m\u001b[43m,\u001b[49m\n\u001b[1;32m   1585\u001b[0m \u001b[43m        \u001b[49m\u001b[43mmap_location\u001b[49m\u001b[43m,\u001b[49m\n\u001b[1;32m   1586\u001b[0m \u001b[43m        \u001b[49m\u001b[43mhparams_file\u001b[49m\u001b[43m,\u001b[49m\n\u001b[1;32m   1587\u001b[0m \u001b[43m        \u001b[49m\u001b[43mstrict\u001b[49m\u001b[43m,\u001b[49m\n\u001b[1;32m   1588\u001b[0m \u001b[43m        \u001b[49m\u001b[38;5;241;43m*\u001b[39;49m\u001b[38;5;241;43m*\u001b[39;49m\u001b[43mkwargs\u001b[49m\u001b[43m,\u001b[49m\n\u001b[1;32m   1589\u001b[0m \u001b[43m    \u001b[49m\u001b[43m)\u001b[49m\n\u001b[1;32m   1590\u001b[0m     \u001b[38;5;28;01mreturn\u001b[39;00m cast(Self, loaded)\n",
      "File \u001b[0;32m/opt/conda/lib/python3.11/site-packages/lightning/pytorch/core/saving.py:91\u001b[0m, in \u001b[0;36m_load_from_checkpoint\u001b[0;34m(cls, checkpoint_path, map_location, hparams_file, strict, **kwargs)\u001b[0m\n\u001b[1;32m     89\u001b[0m     \u001b[38;5;28;01mreturn\u001b[39;00m _load_state(\u001b[38;5;28mcls\u001b[39m, checkpoint, \u001b[38;5;241m*\u001b[39m\u001b[38;5;241m*\u001b[39mkwargs)\n\u001b[1;32m     90\u001b[0m \u001b[38;5;28;01mif\u001b[39;00m \u001b[38;5;28missubclass\u001b[39m(\u001b[38;5;28mcls\u001b[39m, pl\u001b[38;5;241m.\u001b[39mLightningModule):\n\u001b[0;32m---> 91\u001b[0m     model \u001b[38;5;241m=\u001b[39m \u001b[43m_load_state\u001b[49m\u001b[43m(\u001b[49m\u001b[38;5;28;43mcls\u001b[39;49m\u001b[43m,\u001b[49m\u001b[43m \u001b[49m\u001b[43mcheckpoint\u001b[49m\u001b[43m,\u001b[49m\u001b[43m \u001b[49m\u001b[43mstrict\u001b[49m\u001b[38;5;241;43m=\u001b[39;49m\u001b[43mstrict\u001b[49m\u001b[43m,\u001b[49m\u001b[43m \u001b[49m\u001b[38;5;241;43m*\u001b[39;49m\u001b[38;5;241;43m*\u001b[39;49m\u001b[43mkwargs\u001b[49m\u001b[43m)\u001b[49m\n\u001b[1;32m     92\u001b[0m     state_dict \u001b[38;5;241m=\u001b[39m checkpoint[\u001b[38;5;124m\"\u001b[39m\u001b[38;5;124mstate_dict\u001b[39m\u001b[38;5;124m\"\u001b[39m]\n\u001b[1;32m     93\u001b[0m     \u001b[38;5;28;01mif\u001b[39;00m \u001b[38;5;129;01mnot\u001b[39;00m state_dict:\n",
      "File \u001b[0;32m/opt/conda/lib/python3.11/site-packages/lightning/pytorch/core/saving.py:187\u001b[0m, in \u001b[0;36m_load_state\u001b[0;34m(cls, checkpoint, strict, **cls_kwargs_new)\u001b[0m\n\u001b[1;32m    184\u001b[0m     obj\u001b[38;5;241m.\u001b[39mon_load_checkpoint(checkpoint)\n\u001b[1;32m    186\u001b[0m \u001b[38;5;66;03m# load the state_dict on the model automatically\u001b[39;00m\n\u001b[0;32m--> 187\u001b[0m keys \u001b[38;5;241m=\u001b[39m \u001b[43mobj\u001b[49m\u001b[38;5;241;43m.\u001b[39;49m\u001b[43mload_state_dict\u001b[49m\u001b[43m(\u001b[49m\u001b[43mcheckpoint\u001b[49m\u001b[43m[\u001b[49m\u001b[38;5;124;43m\"\u001b[39;49m\u001b[38;5;124;43mstate_dict\u001b[39;49m\u001b[38;5;124;43m\"\u001b[39;49m\u001b[43m]\u001b[49m\u001b[43m,\u001b[49m\u001b[43m \u001b[49m\u001b[43mstrict\u001b[49m\u001b[38;5;241;43m=\u001b[39;49m\u001b[43mstrict\u001b[49m\u001b[43m)\u001b[49m\n\u001b[1;32m    189\u001b[0m \u001b[38;5;28;01mif\u001b[39;00m \u001b[38;5;129;01mnot\u001b[39;00m strict:\n\u001b[1;32m    190\u001b[0m     \u001b[38;5;28;01mif\u001b[39;00m keys\u001b[38;5;241m.\u001b[39mmissing_keys:\n",
      "File \u001b[0;32m/opt/conda/lib/python3.11/site-packages/torch/nn/modules/module.py:2584\u001b[0m, in \u001b[0;36mModule.load_state_dict\u001b[0;34m(self, state_dict, strict, assign)\u001b[0m\n\u001b[1;32m   2576\u001b[0m         error_msgs\u001b[38;5;241m.\u001b[39minsert(\n\u001b[1;32m   2577\u001b[0m             \u001b[38;5;241m0\u001b[39m,\n\u001b[1;32m   2578\u001b[0m             \u001b[38;5;124m\"\u001b[39m\u001b[38;5;124mMissing key(s) in state_dict: \u001b[39m\u001b[38;5;132;01m{}\u001b[39;00m\u001b[38;5;124m. \u001b[39m\u001b[38;5;124m\"\u001b[39m\u001b[38;5;241m.\u001b[39mformat(\n\u001b[1;32m   2579\u001b[0m                 \u001b[38;5;124m\"\u001b[39m\u001b[38;5;124m, \u001b[39m\u001b[38;5;124m\"\u001b[39m\u001b[38;5;241m.\u001b[39mjoin(\u001b[38;5;124mf\u001b[39m\u001b[38;5;124m'\u001b[39m\u001b[38;5;124m\"\u001b[39m\u001b[38;5;132;01m{\u001b[39;00mk\u001b[38;5;132;01m}\u001b[39;00m\u001b[38;5;124m\"\u001b[39m\u001b[38;5;124m'\u001b[39m \u001b[38;5;28;01mfor\u001b[39;00m k \u001b[38;5;129;01min\u001b[39;00m missing_keys)\n\u001b[1;32m   2580\u001b[0m             ),\n\u001b[1;32m   2581\u001b[0m         )\n\u001b[1;32m   2583\u001b[0m \u001b[38;5;28;01mif\u001b[39;00m \u001b[38;5;28mlen\u001b[39m(error_msgs) \u001b[38;5;241m>\u001b[39m \u001b[38;5;241m0\u001b[39m:\n\u001b[0;32m-> 2584\u001b[0m     \u001b[38;5;28;01mraise\u001b[39;00m \u001b[38;5;167;01mRuntimeError\u001b[39;00m(\n\u001b[1;32m   2585\u001b[0m         \u001b[38;5;124m\"\u001b[39m\u001b[38;5;124mError(s) in loading state_dict for \u001b[39m\u001b[38;5;132;01m{}\u001b[39;00m\u001b[38;5;124m:\u001b[39m\u001b[38;5;130;01m\\n\u001b[39;00m\u001b[38;5;130;01m\\t\u001b[39;00m\u001b[38;5;132;01m{}\u001b[39;00m\u001b[38;5;124m\"\u001b[39m\u001b[38;5;241m.\u001b[39mformat(\n\u001b[1;32m   2586\u001b[0m             \u001b[38;5;28mself\u001b[39m\u001b[38;5;241m.\u001b[39m\u001b[38;5;18m__class__\u001b[39m\u001b[38;5;241m.\u001b[39m\u001b[38;5;18m__name__\u001b[39m, \u001b[38;5;124m\"\u001b[39m\u001b[38;5;130;01m\\n\u001b[39;00m\u001b[38;5;130;01m\\t\u001b[39;00m\u001b[38;5;124m\"\u001b[39m\u001b[38;5;241m.\u001b[39mjoin(error_msgs)\n\u001b[1;32m   2587\u001b[0m         )\n\u001b[1;32m   2588\u001b[0m     )\n\u001b[1;32m   2589\u001b[0m \u001b[38;5;28;01mreturn\u001b[39;00m _IncompatibleKeys(missing_keys, unexpected_keys)\n",
      "\u001b[0;31mRuntimeError\u001b[0m: Error(s) in loading state_dict for GCDDDetector:\n\tsize mismatch for detector.rpn.head.cls_logits.weight: copying a param with shape torch.Size([28, 256, 1, 1]) from checkpoint, the shape in current model is torch.Size([35, 256, 1, 1]).\n\tsize mismatch for detector.rpn.head.cls_logits.bias: copying a param with shape torch.Size([28]) from checkpoint, the shape in current model is torch.Size([35]).\n\tsize mismatch for detector.rpn.head.bbox_pred.weight: copying a param with shape torch.Size([112, 256, 1, 1]) from checkpoint, the shape in current model is torch.Size([140, 256, 1, 1]).\n\tsize mismatch for detector.rpn.head.bbox_pred.bias: copying a param with shape torch.Size([112]) from checkpoint, the shape in current model is torch.Size([140]).\n\tsize mismatch for detector.roi_heads.box_head.fc6.weight: copying a param with shape torch.Size([1024, 12544]) from checkpoint, the shape in current model is torch.Size([1024, 50176])."
     ]
    }
   ],
   "source": [
    "model = GCDDDetector.load_from_checkpoint(CHECKPOINT_PATH,\n",
    "                                                  num_classes=24,\n",
    "                                                  learning_rate=0.002,\n",
    "                                                  trainable_backbone_layers=3,\n",
    "                                                  map_location=\"cpu\"\n",
    "                                                 )\n",
    "# model = GCDDDetector(24,\n",
    "#                              learning_rate=config.LEARNING_RATE,\n",
    "#                              # trainable_backbone_layers=config.TRAINABLE_BACKBONE_LAYERS\n",
    "#                     )\n",
    "model.eval();"
   ]
  },
  {
   "cell_type": "code",
   "execution_count": null,
   "id": "902fda4b-286a-43e9-ab13-d23097fe4051",
   "metadata": {},
   "outputs": [],
   "source": [
    "## data\n",
    "df_train = pd.read_csv(ANNOT_PATH)\n",
    "df = df_train[df_train[\"class\"] == \"Corn_Cercospora_Leaf_Spot\"]"
   ]
  },
  {
   "cell_type": "code",
   "execution_count": null,
   "id": "0669e9f2-3f98-4e0c-b740-ee301a947710",
   "metadata": {},
   "outputs": [],
   "source": [
    "label_encoder = get_labelencoder(ANNOT_PATH, \"class\")\n",
    "transforms = get_test_transforms()\n",
    "dataset = ImageDataset(df, IMGS_DIR, label_encoder=label_encoder, transforms=None)"
   ]
  },
  {
   "cell_type": "code",
   "execution_count": null,
   "id": "243492d6-e53d-41be-8e08-ac7af879e5fe",
   "metadata": {},
   "outputs": [],
   "source": [
    "# rand_index = np.random.randint(0, len(dataset))\n",
    "rand_index = 0\n",
    "# image, target = dataset[rand_index]\n",
    "image, target = dataset[rand_index]\n",
    "\n",
    "with torch.no_grad():\n",
    "    preds = model([transforms(image)])[0]\n",
    "    preds = box_nms([preds], 0.01)[0]\n",
    "    \n",
    "# img_with_gt = draw_boxes(image, target)\n",
    "# img_with_pred = draw_boxes(image, preds)\n",
    "\n",
    "\n",
    "\n",
    "# compare_imgs(img_with_gt.permute(1,2, 0).numpy(), img_with_pred.permute(1,2,0).numpy())\n",
    "# F.to_pil_image(img_with_gt)\n",
    "\n",
    "fig = plt.figure(figsize=(16,9))\n",
    "plt.imshow(compare_single(image, target, preds))\n",
    "plt.show()"
   ]
  },
  {
   "cell_type": "code",
   "execution_count": null,
   "id": "27c5335d-28f8-43e5-8637-c87c2aa77dd7",
   "metadata": {},
   "outputs": [],
   "source": [
    "label_encoder.inverse_transform([0,4])"
   ]
  },
  {
   "cell_type": "code",
   "execution_count": null,
   "id": "b125280e-bd07-4f95-823c-a37d9009b20d",
   "metadata": {},
   "outputs": [],
   "source": [
    "#1106\n",
    "len(preds[\"scores\"])"
   ]
  },
  {
   "cell_type": "code",
   "execution_count": null,
   "id": "0c50d077-9874-429e-b9e4-149d811b369b",
   "metadata": {},
   "outputs": [],
   "source": [
    "# item = fasterrcnn_mobilenet_v3_large_fpn(\n",
    "#     weights=FasterRCNN_MobileNet_V3_Large_FPN_Weights.COCO_V1\n",
    "#     rpn_anchor_boxes=AnchorGenerator(sizes=config.ANCHOR_SIZES, aspect_ratios=config.ANCHOR_RATIOS),\n",
    "#                                         )"
   ]
  },
  {
   "cell_type": "code",
   "execution_count": null,
   "id": "4bc6b774-9f88-48f6-a7c3-a489fc38692b",
   "metadata": {},
   "outputs": [],
   "source": [
    "(image.permute(1,2,0).numpy()/255.0).std(axis=(0,1))"
   ]
  },
  {
   "cell_type": "code",
   "execution_count": null,
   "id": "2b0da022-4e21-47a9-8261-748c5a1b3baf",
   "metadata": {},
   "outputs": [],
   "source": [
    "get_means_and_stds(ANNOT_PATH, IMGS_DIR)"
   ]
  },
  {
   "cell_type": "code",
   "execution_count": null,
   "id": "1603238a-8f2d-4aa9-bb73-f1172d5636dc",
   "metadata": {},
   "outputs": [],
   "source": [
    "temp = df_train.drop_duplicates(subset=[\"Image_ID\"], keep=\"last\")\n",
    "temp=temp.groupby(\"class\").sample(n=6, random_state=config.SEED)\n",
    "temp.to_csv(\"../data/train_vs.csv\", index=False)"
   ]
  },
  {
   "cell_type": "code",
   "execution_count": null,
   "id": "d2955d55-b518-4cfc-b43f-a508d04dec87",
   "metadata": {},
   "outputs": [],
   "source": [
    "temp"
   ]
  },
  {
   "cell_type": "code",
   "execution_count": 6,
   "id": "a79db003-e635-4846-85d6-42504310a3b4",
   "metadata": {},
   "outputs": [],
   "source": [
    "encoder = get_labelencoder(ANNOT_PATH, \"class\")"
   ]
  },
  {
   "cell_type": "code",
   "execution_count": 7,
   "id": "c0a49e2e-4f12-4e03-8858-00bd7bea73e6",
   "metadata": {},
   "outputs": [
    {
     "data": {
      "text/plain": [
       "['Corn_Cercospora_Leaf_Spot', 'Pepper_Leaf_Curl']"
      ]
     },
     "execution_count": 7,
     "metadata": {},
     "output_type": "execute_result"
    }
   ],
   "source": [
    "encoder.transform([\"Tomato_Fusarium\", \"Corn_Streak\"])\n",
    "encoder.inverse_transform([1, 13])"
   ]
  },
  {
   "cell_type": "code",
   "execution_count": 8,
   "id": "48bd9906-d8ed-45a2-8d88-a4e0cb990c2e",
   "metadata": {},
   "outputs": [
    {
     "data": {
      "text/plain": [
       "{'Corn_Cercospora_Leaf_Spot': 1,\n",
       " 'Corn_Common_Rust': 2,\n",
       " 'Corn_Healthy': 3,\n",
       " 'Corn_Northern_Leaf_Blight': 4,\n",
       " 'Corn_Streak': 5,\n",
       " 'Pepper_Bacterial_Spot': 6,\n",
       " 'Pepper_Cercospora': 7,\n",
       " 'Pepper_Early_Blight': 8,\n",
       " 'Pepper_Fusarium': 9,\n",
       " 'Pepper_Healthy': 10,\n",
       " 'Pepper_Late_Blight': 11,\n",
       " 'Pepper_Leaf_Blight': 12,\n",
       " 'Pepper_Leaf_Curl': 13,\n",
       " 'Pepper_Leaf_Mosaic': 14,\n",
       " 'Pepper_Septoria': 15,\n",
       " 'Tomato_Bacterial_Spot': 16,\n",
       " 'Tomato_Early_Blight': 17,\n",
       " 'Tomato_Fusarium': 18,\n",
       " 'Tomato_Healthy': 19,\n",
       " 'Tomato_Late_Blight': 20,\n",
       " 'Tomato_Leaf_Curl': 21,\n",
       " 'Tomato_Mosaic': 22,\n",
       " 'Tomato_Septoria': 23}"
      ]
     },
     "execution_count": 8,
     "metadata": {},
     "output_type": "execute_result"
    }
   ],
   "source": [
    "encoder.holder"
   ]
  },
  {
   "cell_type": "code",
   "execution_count": 9,
   "id": "0ba61489-caed-43a9-9616-cc7e6d42a60e",
   "metadata": {},
   "outputs": [
    {
     "data": {
      "text/plain": [
       "{1: 'Corn_Cercospora_Leaf_Spot',\n",
       " 2: 'Corn_Common_Rust',\n",
       " 3: 'Corn_Healthy',\n",
       " 4: 'Corn_Northern_Leaf_Blight',\n",
       " 5: 'Corn_Streak',\n",
       " 6: 'Pepper_Bacterial_Spot',\n",
       " 7: 'Pepper_Cercospora',\n",
       " 8: 'Pepper_Early_Blight',\n",
       " 9: 'Pepper_Fusarium',\n",
       " 10: 'Pepper_Healthy',\n",
       " 11: 'Pepper_Late_Blight',\n",
       " 12: 'Pepper_Leaf_Blight',\n",
       " 13: 'Pepper_Leaf_Curl',\n",
       " 14: 'Pepper_Leaf_Mosaic',\n",
       " 15: 'Pepper_Septoria',\n",
       " 16: 'Tomato_Bacterial_Spot',\n",
       " 17: 'Tomato_Early_Blight',\n",
       " 18: 'Tomato_Fusarium',\n",
       " 19: 'Tomato_Healthy',\n",
       " 20: 'Tomato_Late_Blight',\n",
       " 21: 'Tomato_Leaf_Curl',\n",
       " 22: 'Tomato_Mosaic',\n",
       " 23: 'Tomato_Septoria'}"
      ]
     },
     "execution_count": 9,
     "metadata": {},
     "output_type": "execute_result"
    }
   ],
   "source": [
    "encoder.holder_inverse"
   ]
  },
  {
   "cell_type": "code",
   "execution_count": null,
   "id": "1e414eb4-b6c1-47fb-9f1e-694678ebe576",
   "metadata": {},
   "outputs": [],
   "source": []
  }
 ],
 "metadata": {
  "kernelspec": {
   "display_name": "Python 3 (ipykernel)",
   "language": "python",
   "name": "python3"
  },
  "language_info": {
   "codemirror_mode": {
    "name": "ipython",
    "version": 3
   },
   "file_extension": ".py",
   "mimetype": "text/x-python",
   "name": "python",
   "nbconvert_exporter": "python",
   "pygments_lexer": "ipython3",
   "version": "3.11.8"
  }
 },
 "nbformat": 4,
 "nbformat_minor": 5
}
