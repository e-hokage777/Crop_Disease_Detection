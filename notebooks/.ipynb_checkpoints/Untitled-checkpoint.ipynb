{
 "cells": [
  {
   "cell_type": "code",
   "execution_count": 1,
   "id": "3a84e66f-726e-4b6b-b577-000ecb694ac1",
   "metadata": {},
   "outputs": [],
   "source": [
    "import sys\n",
    "import os"
   ]
  },
  {
   "cell_type": "code",
   "execution_count": 2,
   "id": "f6c84e31-0515-4556-94ce-8ca3058970bb",
   "metadata": {},
   "outputs": [],
   "source": [
    "## adding scripts to path\n",
    "sys.path.append(\"../scripts\")"
   ]
  },
  {
   "cell_type": "code",
   "execution_count": 141,
   "id": "a64ed19e-24fc-4909-9130-bae4f59a17bf",
   "metadata": {},
   "outputs": [],
   "source": [
    "import pandas as pd\n",
    "from torchvision.io import decode_image\n",
    "import numpy as np\n",
    "import torch\n",
    "from torchvision import utils\n",
    "import matplotlib.pyplot as plt\n",
    "## customs\n",
    "import config as config\n",
    "from _utils import get_labelencoder, get_transforms, get_test_transforms, get_means_and_stds\n",
    "from datasets import ImageDataset\n",
    "from model import GCDDDetector\n",
    "from torchvision import tv_tensors\n",
    "from torchvision.transforms import v2 as T"
   ]
  },
  {
   "cell_type": "code",
   "execution_count": 4,
   "id": "32bf9bb1-7926-4b2d-8db5-0c834bc12693",
   "metadata": {},
   "outputs": [],
   "source": [
    "## paths\n",
    "ANNOT_FP = \"../data/Train.csv\"\n",
    "IMGS_PATH = \"../data/images\""
   ]
  },
  {
   "cell_type": "code",
   "execution_count": 5,
   "id": "78a5a5f1-cdd4-4795-9657-845e0e0a2471",
   "metadata": {},
   "outputs": [],
   "source": [
    "## other constants\n",
    "labelencoder = get_labelencoder(ANNOT_FP, \"class\")\n",
    "inference_transforms = get_test_transforms()\n",
    "train_transforms=get_transforms()"
   ]
  },
  {
   "cell_type": "code",
   "execution_count": 6,
   "id": "734c1b91-1a25-41b0-a27c-9a3d5e7321e4",
   "metadata": {},
   "outputs": [],
   "source": [
    "##### FUNCTIONS\n",
    "## function to get image and it's bounding boxes\n",
    "def get_sample(df, img_id):\n",
    "    image = decode_image(os.path.join(IMGS_PATH, img_id))\n",
    "    img_df = df[df[\"Image_ID\"] == img_id]\n",
    "    target = {}\n",
    "    target[\"boxes\"] = torch.from_numpy(img_df[[\"xmin\", \"ymin\", \"xmax\", \"ymax\"]].values.astype(np.float32))\n",
    "    target[\"boxes\"] = tv_tensors.BoundingBoxes(target[\"boxes\"], format=\"XYXY\", canvas_size=image.shape[-2:])\n",
    "    target[\"labels\"] = torch.tensor(labelencoder.transform(img_df[\"class\"]), dtype=torch.int64)\n",
    "\n",
    "    return image, target\n",
    "\n",
    "def get_fmap_fpn_layer(fmap_dict, layer_name):\n",
    "    fmap = fmap_dict[layer_name].squeeze(0)\n",
    "    fmap = normalize_fmap(fmap)\n",
    "    return fmap.mean(dim=0)\n",
    "    \n",
    "def normalize_fmap(fmap):\n",
    "    fmin = fmap.min(dim=-1, keepdim=True)[0].min(dim=-2, keepdim=True)[0]\n",
    "    fmax = fmap.max(dim=-1, keepdim=True)[0].max(dim=-2, keepdim=True)[0]\n",
    "\n",
    "    fmap_norm = (fmap-fmin)/(fmax-fmin)\n",
    "    return fmap_norm\n",
    "\n",
    "def draw_bboxes(image, bbox_dict, width=4, color=\"blue\", font_size=50):\n",
    "    font = \"/usr/share/fonts/truetype/liberation/LiberationMono-Bold.ttf\"\n",
    "    boxes = bbox_dict[\"boxes\"]\n",
    "    labels = bbox_dict[\"labels\"]\n",
    "    return utils.draw_bounding_boxes(image, boxes, [str(label.item()) for label in labels], width=width, font=font, font_size=font_size, colors=[color] * len(labels))"
   ]
  },
  {
   "cell_type": "code",
   "execution_count": 7,
   "id": "3cd25476-f0a3-48e6-a406-3d3a255b864f",
   "metadata": {},
   "outputs": [],
   "source": [
    "## reading csv\n",
    "df = pd.read_csv(ANNOT_FP)\n",
    "images = df[\"Image_ID\"].unique()"
   ]
  },
  {
   "cell_type": "code",
   "execution_count": 8,
   "id": "bdbc8e8e-2558-43a5-9c92-5db87bc23963",
   "metadata": {},
   "outputs": [],
   "source": [
    "image1 = images[0]\n",
    "image2 = images[1]"
   ]
  },
  {
   "cell_type": "code",
   "execution_count": 9,
   "id": "9bfc1ba7-57be-427b-9cf7-1d41d6932ccc",
   "metadata": {},
   "outputs": [],
   "source": [
    "sample1 = get_sample(df, image1)\n",
    "sample2 = get_sample(df, image2)"
   ]
  },
  {
   "cell_type": "code",
   "execution_count": 10,
   "id": "b281896e-9a53-4656-a9c7-1fec25fa8766",
   "metadata": {},
   "outputs": [],
   "source": [
    "cutmix = T.CutMix(num_classes=24)\n",
    "mixup = T.MixUp(num_classes=24)\n",
    "cutmix_or_mixup = T.RandomChoice([cutmix, mixup])"
   ]
  },
  {
   "cell_type": "code",
   "execution_count": 11,
   "id": "24f49cde-a6a8-4a2d-b2ba-c552e7bf9247",
   "metadata": {},
   "outputs": [
    {
     "ename": "NameError",
     "evalue": "name 'labels_getter' is not defined",
     "output_type": "error",
     "traceback": [
      "\u001b[0;31m---------------------------------------------------------------------------\u001b[0m",
      "\u001b[0;31mNameError\u001b[0m                                 Traceback (most recent call last)",
      "Cell \u001b[0;32mIn[11], line 1\u001b[0m\n\u001b[0;32m----> 1\u001b[0m cutmix_or_mixup([sample1, sample2], \u001b[43mlabels_getter\u001b[49m)\n",
      "\u001b[0;31mNameError\u001b[0m: name 'labels_getter' is not defined"
     ]
    }
   ],
   "source": [
    "cutmix_or_mixup([sample1, sample2], labels_getter)"
   ]
  },
  {
   "cell_type": "markdown",
   "id": "18747d50-139f-4b5b-b282-828670f300ea",
   "metadata": {},
   "source": [
    "## Outlier Removal Inspect\n",
    "Looking into why removing outliers makes model perform worse"
   ]
  },
  {
   "cell_type": "code",
   "execution_count": 66,
   "id": "3557ca92-03e4-408c-89f1-d58b51559628",
   "metadata": {},
   "outputs": [],
   "source": [
    "def clean_bbox_data(df):\n",
    "    width = df[\"xmax\"] - df[\"xmin\"]\n",
    "    height = df[\"ymax\"] - df[\"ymin\"]\n",
    "    aspect = width/height\n",
    "\n",
    "    ## handling outliers\n",
    "    min_dim = 1\n",
    "    max_dim = 700\n",
    "    min_ratio = 0.5\n",
    "    max_ratio = 2\n",
    "    df = df[((width >= min_dim) & (width <= max_dim)) &\n",
    "             ((height >= min_dim) & (height <= max_dim)) &\n",
    "             ((aspect >= min_ratio) & (aspect <= max_ratio))]\n",
    "    \n",
    "    return df"
   ]
  },
  {
   "cell_type": "code",
   "execution_count": 75,
   "id": "2399aa05-a985-4cb2-8010-579f6b657e9e",
   "metadata": {},
   "outputs": [],
   "source": [
    "def get_outliers(df):\n",
    "    width = df[\"xmax\"] - df[\"xmin\"]\n",
    "    height = df[\"ymax\"] - df[\"ymin\"]\n",
    "    aspect = width/height\n",
    "\n",
    "    ## handling outliers\n",
    "    min_dim = 1\n",
    "    max_dim = 700\n",
    "    min_ratio = 0.5\n",
    "    max_ratio = 2\n",
    "    df = df[((width < min_dim) | (width > max_dim)) |\n",
    "             ((height < min_dim) | (height > max_dim)) |\n",
    "             ((aspect < min_ratio) | (aspect > max_ratio))]\n",
    "    \n",
    "    return df "
   ]
  },
  {
   "cell_type": "code",
   "execution_count": 76,
   "id": "189cf866-1097-4faf-8564-b6c4e81e2fcf",
   "metadata": {},
   "outputs": [],
   "source": [
    "df_no_dups = pd.read_csv(\"../data/Train_no_dup_bboxes.csv\")"
   ]
  },
  {
   "cell_type": "code",
   "execution_count": 77,
   "id": "a253b7f3-334b-4f6d-a3a3-1f4816147989",
   "metadata": {},
   "outputs": [],
   "source": [
    "outlier_df = get_outliers(df_no_dups)"
   ]
  },
  {
   "cell_type": "code",
   "execution_count": 80,
   "id": "8895e0dc-60da-4e68-945f-18bb5552d4b8",
   "metadata": {},
   "outputs": [
    {
     "data": {
      "text/plain": [
       "class\n",
       "Corn_Streak                  1241\n",
       "Corn_Common_Rust             1205\n",
       "Corn_Healthy                  926\n",
       "Tomato_Healthy                593\n",
       "Tomato_Late_Blight            565\n",
       "Corn_Cercospora_Leaf_Spot     478\n",
       "Tomato_Septoria               458\n",
       "Pepper_Leaf_Curl              351\n",
       "Pepper_Healthy                278\n",
       "Pepper_Leaf_Mosaic            240\n",
       "Tomato_Fusarium               230\n",
       "Pepper_Fusarium               212\n",
       "Pepper_Septoria               168\n",
       "Tomato_Early_Blight           161\n",
       "Tomato_Leaf_Curl               75\n",
       "Pepper_Bacterial_Spot          74\n",
       "Pepper_Late_Blight             73\n",
       "Corn_Northern_Leaf_Blight      71\n",
       "Pepper_Leaf_Blight             69\n",
       "Tomato_Bacterial_Spot          34\n",
       "Pepper_Cercospora              12\n",
       "Tomato_Mosaic                   8\n",
       "Pepper_Early_Blight             4\n",
       "Name: count, dtype: int64"
      ]
     },
     "execution_count": 80,
     "metadata": {},
     "output_type": "execute_result"
    }
   ],
   "source": [
    "outlier_df[\"class\"].value_counts()"
   ]
  },
  {
   "cell_type": "code",
   "execution_count": 82,
   "id": "9c4a1965-db9a-4211-8586-a7d2abc71f40",
   "metadata": {},
   "outputs": [
    {
     "data": {
      "text/plain": [
       "class\n",
       "Corn_Cercospora_Leaf_Spot    6535\n",
       "Tomato_Septoria              5311\n",
       "Tomato_Late_Blight           3608\n",
       "Corn_Streak                  3179\n",
       "Tomato_Healthy               2872\n",
       "Pepper_Leaf_Mosaic           2109\n",
       "Pepper_Bacterial_Spot        1942\n",
       "Tomato_Early_Blight          1896\n",
       "Corn_Common_Rust             1680\n",
       "Corn_Healthy                 1571\n",
       "Pepper_Leaf_Curl             1527\n",
       "Pepper_Septoria              1133\n",
       "Tomato_Fusarium               878\n",
       "Pepper_Healthy                736\n",
       "Pepper_Leaf_Blight            507\n",
       "Tomato_Bacterial_Spot         484\n",
       "Pepper_Fusarium               471\n",
       "Pepper_Cercospora             471\n",
       "Tomato_Leaf_Curl              389\n",
       "Pepper_Late_Blight            279\n",
       "Corn_Northern_Leaf_Blight     157\n",
       "Tomato_Mosaic                  84\n",
       "Pepper_Early_Blight            46\n",
       "Name: count, dtype: int64"
      ]
     },
     "execution_count": 82,
     "metadata": {},
     "output_type": "execute_result"
    }
   ],
   "source": [
    "df_no_dups[\"class\"].value_counts()"
   ]
  },
  {
   "cell_type": "code",
   "execution_count": 71,
   "id": "6df7b2df-0de8-4952-b065-8c6f0e455bea",
   "metadata": {},
   "outputs": [],
   "source": [
    "df_out_removed = clean_bbox_data(df_no_dups)"
   ]
  },
  {
   "cell_type": "code",
   "execution_count": 72,
   "id": "7431ed19-13fd-4ecb-8a4f-9d33d096c257",
   "metadata": {},
   "outputs": [
    {
     "name": "stderr",
     "output_type": "stream",
     "text": [
      "/tmp/ipykernel_424918/179938492.py:1: SettingWithCopyWarning: \n",
      "A value is trying to be set on a copy of a slice from a DataFrame.\n",
      "Try using .loc[row_indexer,col_indexer] = value instead\n",
      "\n",
      "See the caveats in the documentation: https://pandas.pydata.org/pandas-docs/stable/user_guide/indexing.html#returning-a-view-versus-a-copy\n",
      "  df_out_removed[\"width\"] =  df_out_removed[\"xmax\"] - df_out_removed[\"xmin\"]\n",
      "/tmp/ipykernel_424918/179938492.py:2: SettingWithCopyWarning: \n",
      "A value is trying to be set on a copy of a slice from a DataFrame.\n",
      "Try using .loc[row_indexer,col_indexer] = value instead\n",
      "\n",
      "See the caveats in the documentation: https://pandas.pydata.org/pandas-docs/stable/user_guide/indexing.html#returning-a-view-versus-a-copy\n",
      "  df_out_removed[\"height\"] = df_out_removed[\"ymax\"] - df_out_removed[\"ymin\"]\n",
      "/tmp/ipykernel_424918/179938492.py:3: SettingWithCopyWarning: \n",
      "A value is trying to be set on a copy of a slice from a DataFrame.\n",
      "Try using .loc[row_indexer,col_indexer] = value instead\n",
      "\n",
      "See the caveats in the documentation: https://pandas.pydata.org/pandas-docs/stable/user_guide/indexing.html#returning-a-view-versus-a-copy\n",
      "  df_out_removed[\"aspect\"] = (df_out_removed[\"width\"] / df_out_removed[\"height\"])\n"
     ]
    }
   ],
   "source": [
    "df_out_removed[\"width\"] =  df_out_removed[\"xmax\"] - df_out_removed[\"xmin\"]\n",
    "df_out_removed[\"height\"] = df_out_removed[\"ymax\"] - df_out_removed[\"ymin\"]\n",
    "df_out_removed[\"aspect\"] = (df_out_removed[\"width\"] / df_out_removed[\"height\"])"
   ]
  },
  {
   "cell_type": "code",
   "execution_count": 74,
   "id": "ddd31a10-98c3-4697-bb08-84f85d84cde8",
   "metadata": {},
   "outputs": [
    {
     "data": {
      "text/plain": [
       "(30339, 10)"
      ]
     },
     "execution_count": 74,
     "metadata": {},
     "output_type": "execute_result"
    }
   ],
   "source": [
    "df_out_removed.shape"
   ]
  },
  {
   "cell_type": "code",
   "execution_count": 89,
   "id": "4ebbcf61-fe30-41bd-95dd-03554dd063d9",
   "metadata": {},
   "outputs": [
    {
     "data": {
      "text/html": [
       "<div>\n",
       "<style scoped>\n",
       "    .dataframe tbody tr th:only-of-type {\n",
       "        vertical-align: middle;\n",
       "    }\n",
       "\n",
       "    .dataframe tbody tr th {\n",
       "        vertical-align: top;\n",
       "    }\n",
       "\n",
       "    .dataframe thead th {\n",
       "        text-align: right;\n",
       "    }\n",
       "</style>\n",
       "<table border=\"1\" class=\"dataframe\">\n",
       "  <thead>\n",
       "    <tr style=\"text-align: right;\">\n",
       "      <th></th>\n",
       "      <th>Image_ID</th>\n",
       "      <th>confidence</th>\n",
       "      <th>class</th>\n",
       "      <th>ymin</th>\n",
       "      <th>xmin</th>\n",
       "      <th>ymax</th>\n",
       "      <th>xmax</th>\n",
       "    </tr>\n",
       "  </thead>\n",
       "  <tbody>\n",
       "    <tr>\n",
       "      <th>29095</th>\n",
       "      <td>id_wfh2h9.jpg</td>\n",
       "      <td>1.0</td>\n",
       "      <td>Tomato_Septoria</td>\n",
       "      <td>681.925466</td>\n",
       "      <td>0.000000</td>\n",
       "      <td>743.783644</td>\n",
       "      <td>17.225673</td>\n",
       "    </tr>\n",
       "    <tr>\n",
       "      <th>31011</th>\n",
       "      <td>id_y7w9sj.jpg</td>\n",
       "      <td>1.0</td>\n",
       "      <td>Tomato_Septoria</td>\n",
       "      <td>1037.164538</td>\n",
       "      <td>0.000000</td>\n",
       "      <td>1127.652774</td>\n",
       "      <td>22.388060</td>\n",
       "    </tr>\n",
       "    <tr>\n",
       "      <th>15901</th>\n",
       "      <td>id_hr9j3c.jpg</td>\n",
       "      <td>1.0</td>\n",
       "      <td>Tomato_Septoria</td>\n",
       "      <td>1220.741483</td>\n",
       "      <td>7.675351</td>\n",
       "      <td>1248.582164</td>\n",
       "      <td>34.343687</td>\n",
       "    </tr>\n",
       "    <tr>\n",
       "      <th>21789</th>\n",
       "      <td>id_o8u5ma.jpg</td>\n",
       "      <td>1.0</td>\n",
       "      <td>Tomato_Septoria</td>\n",
       "      <td>1328.918086</td>\n",
       "      <td>0.000000</td>\n",
       "      <td>1469.567322</td>\n",
       "      <td>54.965252</td>\n",
       "    </tr>\n",
       "    <tr>\n",
       "      <th>21838</th>\n",
       "      <td>id_o8u5ma.jpg</td>\n",
       "      <td>1.0</td>\n",
       "      <td>Pepper_Septoria</td>\n",
       "      <td>1328.918086</td>\n",
       "      <td>0.000000</td>\n",
       "      <td>1469.567322</td>\n",
       "      <td>54.965252</td>\n",
       "    </tr>\n",
       "    <tr>\n",
       "      <th>...</th>\n",
       "      <td>...</td>\n",
       "      <td>...</td>\n",
       "      <td>...</td>\n",
       "      <td>...</td>\n",
       "      <td>...</td>\n",
       "      <td>...</td>\n",
       "      <td>...</td>\n",
       "    </tr>\n",
       "    <tr>\n",
       "      <th>7015</th>\n",
       "      <td>id_8k82kz.jpg</td>\n",
       "      <td>1.0</td>\n",
       "      <td>Tomato_Septoria</td>\n",
       "      <td>1343.713302</td>\n",
       "      <td>3892.119647</td>\n",
       "      <td>1482.267535</td>\n",
       "      <td>4032.000000</td>\n",
       "    </tr>\n",
       "    <tr>\n",
       "      <th>40675</th>\n",
       "      <td>id_pnuh5x.jpg</td>\n",
       "      <td>1.0</td>\n",
       "      <td>Tomato_Septoria</td>\n",
       "      <td>2793.395854</td>\n",
       "      <td>3759.895379</td>\n",
       "      <td>3024.000000</td>\n",
       "      <td>4032.000000</td>\n",
       "    </tr>\n",
       "    <tr>\n",
       "      <th>8542</th>\n",
       "      <td>id_a4xb7c.jpg</td>\n",
       "      <td>1.0</td>\n",
       "      <td>Tomato_Septoria</td>\n",
       "      <td>486.679734</td>\n",
       "      <td>3688.848798</td>\n",
       "      <td>976.638089</td>\n",
       "      <td>4032.000000</td>\n",
       "    </tr>\n",
       "    <tr>\n",
       "      <th>37859</th>\n",
       "      <td>id_g5ah21.jpg</td>\n",
       "      <td>1.0</td>\n",
       "      <td>Pepper_Septoria</td>\n",
       "      <td>1742.379259</td>\n",
       "      <td>3701.356499</td>\n",
       "      <td>1893.988790</td>\n",
       "      <td>4032.000000</td>\n",
       "    </tr>\n",
       "    <tr>\n",
       "      <th>19934</th>\n",
       "      <td>id_m8vuv5.jpg</td>\n",
       "      <td>1.0</td>\n",
       "      <td>Tomato_Septoria</td>\n",
       "      <td>834.497495</td>\n",
       "      <td>3782.544140</td>\n",
       "      <td>1059.787199</td>\n",
       "      <td>4032.000000</td>\n",
       "    </tr>\n",
       "  </tbody>\n",
       "</table>\n",
       "<p>8778 rows × 7 columns</p>\n",
       "</div>"
      ],
      "text/plain": [
       "            Image_ID  confidence            class         ymin         xmin  \\\n",
       "29095  id_wfh2h9.jpg         1.0  Tomato_Septoria   681.925466     0.000000   \n",
       "31011  id_y7w9sj.jpg         1.0  Tomato_Septoria  1037.164538     0.000000   \n",
       "15901  id_hr9j3c.jpg         1.0  Tomato_Septoria  1220.741483     7.675351   \n",
       "21789  id_o8u5ma.jpg         1.0  Tomato_Septoria  1328.918086     0.000000   \n",
       "21838  id_o8u5ma.jpg         1.0  Pepper_Septoria  1328.918086     0.000000   \n",
       "...              ...         ...              ...          ...          ...   \n",
       "7015   id_8k82kz.jpg         1.0  Tomato_Septoria  1343.713302  3892.119647   \n",
       "40675  id_pnuh5x.jpg         1.0  Tomato_Septoria  2793.395854  3759.895379   \n",
       "8542   id_a4xb7c.jpg         1.0  Tomato_Septoria   486.679734  3688.848798   \n",
       "37859  id_g5ah21.jpg         1.0  Pepper_Septoria  1742.379259  3701.356499   \n",
       "19934  id_m8vuv5.jpg         1.0  Tomato_Septoria   834.497495  3782.544140   \n",
       "\n",
       "              ymax         xmax  \n",
       "29095   743.783644    17.225673  \n",
       "31011  1127.652774    22.388060  \n",
       "15901  1248.582164    34.343687  \n",
       "21789  1469.567322    54.965252  \n",
       "21838  1469.567322    54.965252  \n",
       "...            ...          ...  \n",
       "7015   1482.267535  4032.000000  \n",
       "40675  3024.000000  4032.000000  \n",
       "8542    976.638089  4032.000000  \n",
       "37859  1893.988790  4032.000000  \n",
       "19934  1059.787199  4032.000000  \n",
       "\n",
       "[8778 rows x 7 columns]"
      ]
     },
     "execution_count": 89,
     "metadata": {},
     "output_type": "execute_result"
    }
   ],
   "source": [
    "df[df[\"class\"].isin([\"Pepper_Septoria\", \"Tomato_Septoria\"])].sort_values(\"xmax\")"
   ]
  },
  {
   "cell_type": "code",
   "execution_count": 97,
   "id": "1b63f45f-d5fd-4746-a3d0-098c40b6726e",
   "metadata": {},
   "outputs": [
    {
     "data": {
      "text/html": [
       "<div>\n",
       "<style scoped>\n",
       "    .dataframe tbody tr th:only-of-type {\n",
       "        vertical-align: middle;\n",
       "    }\n",
       "\n",
       "    .dataframe tbody tr th {\n",
       "        vertical-align: top;\n",
       "    }\n",
       "\n",
       "    .dataframe thead th {\n",
       "        text-align: right;\n",
       "    }\n",
       "</style>\n",
       "<table border=\"1\" class=\"dataframe\">\n",
       "  <thead>\n",
       "    <tr style=\"text-align: right;\">\n",
       "      <th></th>\n",
       "      <th></th>\n",
       "      <th></th>\n",
       "      <th></th>\n",
       "      <th>Image_ID</th>\n",
       "      <th>confidence</th>\n",
       "      <th>class</th>\n",
       "    </tr>\n",
       "    <tr>\n",
       "      <th>xmin</th>\n",
       "      <th>ymin</th>\n",
       "      <th>xmax</th>\n",
       "      <th>ymax</th>\n",
       "      <th></th>\n",
       "      <th></th>\n",
       "      <th></th>\n",
       "    </tr>\n",
       "  </thead>\n",
       "  <tbody>\n",
       "    <tr>\n",
       "      <th rowspan=\"5\" valign=\"top\">0.000000</th>\n",
       "      <th>340.124249</th>\n",
       "      <th>166.197408</th>\n",
       "      <th>618.274299</th>\n",
       "      <td>2</td>\n",
       "      <td>2</td>\n",
       "      <td>2</td>\n",
       "    </tr>\n",
       "    <tr>\n",
       "      <th>443.460187</th>\n",
       "      <th>102.903981</th>\n",
       "      <th>510.462529</th>\n",
       "      <td>1</td>\n",
       "      <td>1</td>\n",
       "      <td>1</td>\n",
       "    </tr>\n",
       "    <tr>\n",
       "      <th>448.659420</th>\n",
       "      <th>81.226708</th>\n",
       "      <th>569.715321</th>\n",
       "      <td>1</td>\n",
       "      <td>1</td>\n",
       "      <td>1</td>\n",
       "    </tr>\n",
       "    <tr>\n",
       "      <th>655.570078</th>\n",
       "      <th>269.394816</th>\n",
       "      <th>1022.503257</th>\n",
       "      <td>2</td>\n",
       "      <td>2</td>\n",
       "      <td>2</td>\n",
       "    </tr>\n",
       "    <tr>\n",
       "      <th>681.925466</th>\n",
       "      <th>17.225673</th>\n",
       "      <th>743.783644</th>\n",
       "      <td>1</td>\n",
       "      <td>1</td>\n",
       "      <td>1</td>\n",
       "    </tr>\n",
       "    <tr>\n",
       "      <th>...</th>\n",
       "      <th>...</th>\n",
       "      <th>...</th>\n",
       "      <th>...</th>\n",
       "      <td>...</td>\n",
       "      <td>...</td>\n",
       "      <td>...</td>\n",
       "    </tr>\n",
       "    <tr>\n",
       "      <th>3920.560799</th>\n",
       "      <th>2.600410</th>\n",
       "      <th>4003.403863</th>\n",
       "      <th>94.251025</th>\n",
       "      <td>1</td>\n",
       "      <td>1</td>\n",
       "      <td>1</td>\n",
       "    </tr>\n",
       "    <tr>\n",
       "      <th>3928.014047</th>\n",
       "      <th>192.278176</th>\n",
       "      <th>4009.681738</th>\n",
       "      <th>277.344775</th>\n",
       "      <td>1</td>\n",
       "      <td>1</td>\n",
       "      <td>1</td>\n",
       "    </tr>\n",
       "    <tr>\n",
       "      <th>3932.259219</th>\n",
       "      <th>315.327357</th>\n",
       "      <th>4026.925154</th>\n",
       "      <th>433.148053</th>\n",
       "      <td>1</td>\n",
       "      <td>1</td>\n",
       "      <td>1</td>\n",
       "    </tr>\n",
       "    <tr>\n",
       "      <th>3951.355575</th>\n",
       "      <th>2621.448258</th>\n",
       "      <th>4032.000000</th>\n",
       "      <th>2913.800717</th>\n",
       "      <td>1</td>\n",
       "      <td>1</td>\n",
       "      <td>1</td>\n",
       "    </tr>\n",
       "    <tr>\n",
       "      <th>3974.786439</th>\n",
       "      <th>2290.216495</th>\n",
       "      <th>4027.444215</th>\n",
       "      <th>2381.674599</th>\n",
       "      <td>1</td>\n",
       "      <td>1</td>\n",
       "      <td>1</td>\n",
       "    </tr>\n",
       "  </tbody>\n",
       "</table>\n",
       "<p>6483 rows × 3 columns</p>\n",
       "</div>"
      ],
      "text/plain": [
       "                                                 Image_ID  confidence  class\n",
       "xmin        ymin        xmax        ymax                                    \n",
       "0.000000    340.124249  166.197408  618.274299          2           2      2\n",
       "            443.460187  102.903981  510.462529          1           1      1\n",
       "            448.659420  81.226708   569.715321          1           1      1\n",
       "            655.570078  269.394816  1022.503257         2           2      2\n",
       "            681.925466  17.225673   743.783644          1           1      1\n",
       "...                                                   ...         ...    ...\n",
       "3920.560799 2.600410    4003.403863 94.251025           1           1      1\n",
       "3928.014047 192.278176  4009.681738 277.344775          1           1      1\n",
       "3932.259219 315.327357  4026.925154 433.148053          1           1      1\n",
       "3951.355575 2621.448258 4032.000000 2913.800717         1           1      1\n",
       "3974.786439 2290.216495 4027.444215 2381.674599         1           1      1\n",
       "\n",
       "[6483 rows x 3 columns]"
      ]
     },
     "execution_count": 97,
     "metadata": {},
     "output_type": "execute_result"
    }
   ],
   "source": [
    "df[df[\"class\"].isin([\"Pepper_Septoria\", \"Tomato_Septoria\"])].groupby([\"xmin\", \"ymin\", \"xmax\", \"ymax\"]).count()"
   ]
  },
  {
   "cell_type": "code",
   "execution_count": null,
   "id": "dba0e82c-bfbc-4f78-9c9d-0ab650f80712",
   "metadata": {},
   "outputs": [],
   "source": [
    "from ultralytics import YOLO\n",
    "import torchvision.transforms.v2.functional as F\n",
    "\n",
    "\n",
    "model = YOLO()\n",
    "model.train()\n",
    "img = F.to_dtype(sample1[0], scale=True)\n",
    "img = F.resize(img, 640)\n",
    "model((img.unsqueeze(0)))"
   ]
  },
  {
   "cell_type": "code",
   "execution_count": 138,
   "id": "04639529-87a2-44b5-9242-c5f70e4da215",
   "metadata": {},
   "outputs": [
    {
     "data": {
      "text/plain": [
       "tensor([[[0.4196, 0.4123, 0.4064,  ..., 0.3701, 0.3657, 0.3608],\n",
       "         [0.4245, 0.4187, 0.4128,  ..., 0.3686, 0.3642, 0.3608],\n",
       "         [0.4289, 0.4249, 0.4191,  ..., 0.3695, 0.3656, 0.3623],\n",
       "         ...,\n",
       "         [0.3255, 0.3279, 0.3318,  ..., 0.7994, 0.7917, 0.7853],\n",
       "         [0.3446, 0.3471, 0.3509,  ..., 0.7849, 0.7750, 0.7676],\n",
       "         [0.3569, 0.3593, 0.3623,  ..., 0.7721, 0.7603, 0.7529]],\n",
       "\n",
       "        [[0.4863, 0.4789, 0.4730,  ..., 0.3652, 0.3578, 0.3529],\n",
       "         [0.4912, 0.4854, 0.4795,  ..., 0.3637, 0.3563, 0.3529],\n",
       "         [0.4971, 0.4931, 0.4877,  ..., 0.3616, 0.3548, 0.3515],\n",
       "         ...,\n",
       "         [0.2696, 0.2721, 0.2759,  ..., 0.7828, 0.7760, 0.7696],\n",
       "         [0.2858, 0.2882, 0.2921,  ..., 0.7678, 0.7593, 0.7520],\n",
       "         [0.2980, 0.3005, 0.3034,  ..., 0.7549, 0.7446, 0.7373]],\n",
       "\n",
       "        [[0.4235, 0.4113, 0.4025,  ..., 0.2686, 0.2598, 0.2549],\n",
       "         [0.4284, 0.4208, 0.4119,  ..., 0.2671, 0.2583, 0.2549],\n",
       "         [0.4343, 0.4303, 0.4215,  ..., 0.2656, 0.2568, 0.2534],\n",
       "         ...,\n",
       "         [0.2407, 0.2431, 0.2470,  ..., 0.7503, 0.7407, 0.7343],\n",
       "         [0.2583, 0.2608, 0.2646,  ..., 0.7369, 0.7240, 0.7167],\n",
       "         [0.2706, 0.2730, 0.2760,  ..., 0.7240, 0.7093, 0.7020]]])"
      ]
     },
     "execution_count": 138,
     "metadata": {},
     "output_type": "execute_result"
    }
   ],
   "source": [
    "F.resize(img, 640)"
   ]
  },
  {
   "cell_type": "code",
   "execution_count": 170,
   "id": "79a2dd3b-3b93-4eba-94c8-aa533a1c4efc",
   "metadata": {},
   "outputs": [],
   "source": [
    "def merge_state_dicts(path1, path2):\n",
    "    model1 = torch.load(path1, map_location=\"cpu\")\n",
    "    model2 = torch.load(path2, map_location=\"cpu\")\n",
    "\n",
    "    for key in model1[\"state_dict\"]:\n",
    "        model2[\"state_dict\"][key] = (model1[\"state_dict\"][key] + model2[\"state_dict\"][key])/2\n",
    "\n",
    "    return model2"
   ]
  },
  {
   "cell_type": "code",
   "execution_count": 172,
   "id": "3a59f2ec-1cd3-4cc0-87a7-4e5bc50adf23",
   "metadata": {},
   "outputs": [],
   "source": [
    "path1 = \"../checkpoints/epoch-epoch=00_map@50=map_50=0.38.ckpt\"\n",
    "path2 = \"../checkpoints/epoch-epoch=12_map@50=map_50=0.31.ckpt\"\n",
    "merged = merge_state_dicts(path1, path2)\n",
    "torch.save(merged, \"../misc/test.ckpt\")\n",
    "\n",
    "del merged"
   ]
  },
  {
   "cell_type": "code",
   "execution_count": null,
   "id": "a414f610-1aa8-4ede-a603-05030c2e7abb",
   "metadata": {},
   "outputs": [],
   "source": []
  }
 ],
 "metadata": {
  "kernelspec": {
   "display_name": "Python 3 (ipykernel)",
   "language": "python",
   "name": "python3"
  },
  "language_info": {
   "codemirror_mode": {
    "name": "ipython",
    "version": 3
   },
   "file_extension": ".py",
   "mimetype": "text/x-python",
   "name": "python",
   "nbconvert_exporter": "python",
   "pygments_lexer": "ipython3",
   "version": "3.11.8"
  }
 },
 "nbformat": 4,
 "nbformat_minor": 5
}
